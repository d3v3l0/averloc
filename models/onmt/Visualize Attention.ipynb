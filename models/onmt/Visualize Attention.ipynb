{
 "cells": [
  {
   "cell_type": "code",
   "execution_count": 263,
   "metadata": {},
   "outputs": [],
   "source": [
    "from onmt.utils.parse import ArgumentParser\n",
    "import onmt.opts as opts\n",
    "from onmt.translate.translator import build_translator\n",
    "from onmt.utils.misc import split_corpus\n",
    "from itertools import repeat"
   ]
  },
  {
   "cell_type": "code",
   "execution_count": 264,
   "metadata": {},
   "outputs": [],
   "source": [
    "def _get_parser():\n",
    "    parser = ArgumentParser(description='translate.py')\n",
    "\n",
    "    opts.config_opts(parser)\n",
    "    opts.translate_opts(parser)\n",
    "    return parser"
   ]
  },
  {
   "cell_type": "code",
   "execution_count": 267,
   "metadata": {},
   "outputs": [],
   "source": [
    "parser = _get_parser()\n",
    "opt = parser.parse_args(\"--model bilstm_0.5M_step_110000.pt --replace_unk -tgt ../data/python_data/test_5000.labels -src ../data/python_data/test_5000.data --beam_size 50 --attn_debug\")\n",
    "ArgumentParser.validate_translate_opts(opt)"
   ]
  },
  {
   "cell_type": "code",
   "execution_count": 268,
   "metadata": {},
   "outputs": [],
   "source": [
    "fields, model, model_opt =  onmt.model_builder.load_test_model(opt)"
   ]
  },
  {
   "cell_type": "code",
   "execution_count": 269,
   "metadata": {},
   "outputs": [],
   "source": [
    "src_reader = onmt.inputters.str2reader[opt.data_type].from_opt(opt)\n",
    "tgt_reader = onmt.inputters.str2reader[\"text\"].from_opt(opt)"
   ]
  },
  {
   "cell_type": "code",
   "execution_count": 270,
   "metadata": {},
   "outputs": [],
   "source": [
    "data = onmt.inputters.Dataset(fields,\n",
    "            readers=([src_reader, tgt_reader]\n",
    "                     if opt.tgt else [src_reader]),\n",
    "            data=[(\"src\", opt.src), (\"tgt\", opt.tgt)] if opt.tgt else [(\"src\", opt.src)],\n",
    "            dirs=[opt.src_dir, None] if opt.tgt else [opt.src_dir],\n",
    "            sort_key=onmt.inputters.str2sortkey[opt.data_type],\n",
    "            filter_pred=None\n",
    "        )"
   ]
  },
  {
   "cell_type": "code",
   "execution_count": 271,
   "metadata": {},
   "outputs": [],
   "source": [
    "data_iter = onmt.inputters.OrderedIterator(\n",
    "        dataset=data, device='cpu',\n",
    "        batch_size=1, train=False, sort=False,\n",
    "        sort_within_batch=True, shuffle=False)"
   ]
  },
  {
   "cell_type": "code",
   "execution_count": 272,
   "metadata": {},
   "outputs": [],
   "source": [
    "translator = onmt.translate.Translator(model, fields,\n",
    "                                       beam_size=50,\n",
    "                                       n_best=1,\n",
    "                                       global_scorer=onmt.translate.GNMTGlobalScorer(0, 0, \"none\", \"none\"),\n",
    "                                       gpu=-1, \n",
    "                                      src_reader=src_reader, \n",
    "                                      tgt_reader=tgt_reader, \n",
    "                                      replace_unk=True)"
   ]
  },
  {
   "cell_type": "code",
   "execution_count": 273,
   "metadata": {},
   "outputs": [],
   "source": [
    "builder = onmt.translate.TranslationBuilder(\n",
    "        data, translator.fields,\n",
    "        1, True, True)"
   ]
  },
  {
   "cell_type": "code",
   "execution_count": 274,
   "metadata": {
    "scrolled": true
   },
   "outputs": [
    {
     "name": "stdout",
     "output_type": "stream",
     "text": [
      "src: filename return [ line . strip ( ) for line in open ( filename , ' r ' ) if line . strip ( ) and not line . strip ( ) . startswith ( ' ' ) ]\n",
      "pred: read comments\n",
      "tgt: requirements from file\n",
      "idx: 0\n",
      "-----\n",
      "src: fname , url , url image readme = open ( path . join ( path . dirname ( file ) , fname ) ) . read ( ) if hasattr ( readme , ' decode ' ) : # in python 3 , turn bytes into str . readme = readme . decode ( ' utf8 ' ) readme = re . sub ( r ' `<([^>]*)>` ' , r ' `\\\\1 < ' + url + r \" /blob/master/\\\\1>` \" , readme ) readme = re . sub ( r \" \\\\ . \\\\ . image:: / \" , \" . . image:: \" + url image + \" / \" , readme ) return readme\n",
      "pred: read\n",
      "tgt: read\n",
      "idx: 1\n",
      "-----\n",
      "src: self , * args , ** kwargs response = self . session . post ( * args , ** kwargs ) browser . add soup ( response , self . soup config ) return response\n",
      "pred: post\n",
      "tgt: post\n",
      "idx: 2\n",
      "-----\n",
      "src: self if self . session is not none : self . session . cookies . clear ( ) self . session . close ( ) self . session = none\n",
      "pred: close session\n",
      "tgt: close\n",
      "idx: 3\n",
      "-----\n",
      "src: self for input in self . form . find all ( ( \" input \" , \" textarea \" , \" select \" , \" button \" ) ) : input copy = copy . copy ( input ) # text between the opening tag and the closing tag often # contains a lot of spaces that we don ' t want here . for subtag in input copy . find all ( ) + [ input copy ] : if subtag . string : subtag . string = subtag . string . strip ( ) print ( input copy )\n",
      "pred: run\n",
      "tgt: print summary\n",
      "idx: 4\n",
      "-----\n",
      "src: self if self . state . form is none : raise attribute error ( \" no form has been selected yet on this page . \" ) return self . state . form\n",
      "pred: form\n",
      "tgt: form\n",
      "idx: 5\n",
      "-----\n",
      "src: httpbin browser = mechanicalsoup . stateful browser ( user agent = ' 007 ' ) resp = browser . open ( httpbin + \" /user agent \" ) assert resp . json ( ) == { ' user agent ' : ' 007 ' bin browser = mechanicalsoup . stateful browser ( user agent = ' 007 ' ) resp = browser . open ( httpbin + \" /user agent \" ) assert resp . json ( ) == { ' user agent ' : ' 007 ' }\n",
      "pred: test user agent\n",
      "tgt: test user agent\n",
      "idx: 6\n",
      "-----\n",
      "src: filename with open ( filename , \" rb \" ) as f : return f . read ( name with open ( filename , \" rb \" ) as f : return f . read ( )\n",
      "pred: read file\n",
      "tgt: file get contents\n",
      "idx: 7\n",
      "-----\n",
      "src: value if isinstance ( value , bytes ) : value = value . decode ( ' latin1 ' ) return value . translate ( { 40 : r ' \\\\( ' , 41 : r ' \\\\) ' , 92 : r ' \\\\\\\\ ' } )\n",
      "pred: escape regex\n",
      "tgt: pdf escape\n",
      "idx: 8\n",
      "-----\n",
      "src: element , box , get image from uri , base url if isinstance ( box , boxes . table column group box ) : if any ( child . tag == ' col ' for child in element ) : box . span = none # sum of the children\\u2019s spans else : integer attribute ( element , box , ' span ' ) box . children = ( boxes . table column box . anonymous from ( box , [ ] ) for i in range ( box . span ) ) return [ box ]\n",
      "pred: handle element\n",
      "tgt: handle <unk>\n",
      "idx: 9\n",
      "-----\n",
      "src: cls , exception name = type ( exception ) . name value = str ( exception ) return cls ( ' %s: %s ' % ( name , value ) if value else name , exception name = type ( exception ) . name value = str ( exception ) return cls ( ' %s: %s ' % ( name , value ) if value else name )\n",
      "pred: from exception\n",
      "tgt: from exception\n",
      "idx: 10\n",
      "-----\n",
      "src: self , rule descriptors , url fetcher\n",
      "pred: add face face\n",
      "tgt: add font face\n",
      "idx: 11\n",
      "-----\n",
      "src: self return [ html5 ph stylesheet return [ html5 ph stylesheet ]\n",
      "pred: html5 ph\n",
      "tgt: <unk> <unk>\n",
      "idx: 12\n",
      "-----\n",
      "src: self , target = none , stylesheets = none , zoom = 1 , attachments = none , presentational hints = false , font config = none return self . render ( stylesheets , enable hinting = false , presentational hints = presentational hints , font config = font config ) . write pdf ( target , zoom , attachments )\n",
      "pred: write pdf\n",
      "tgt: write pdf\n",
      "idx: 13\n",
      "-----\n",
      "src: style , key value = style [ key ] return value if value != ' current color ' else style [ ' color ' e , key value = style [ key ] return value if value != ' current color ' else style [ ' color ' ]\n",
      "pred: get color\n",
      "tgt: get color\n",
      "idx: 14\n",
      "-----\n",
      "src: url if url . startswith ( ' data: ' ) : # data ur is can be huge , but don\\u2019t need this anyway . return url url = url . encode ( filesystem encoding if url . startswith ( ' file: ' ) else ' utf 8 ' ) return quote ( url , safe = b \" /:?#[]@!$& ' ()*+ , ;=~% \" )\n",
      "pred: anyway\n",
      "tgt: <unk> to uri\n",
      "idx: 15\n",
      "-----\n",
      "src: symbols , negative , value return symbols [ ( value 1 ) % len ( symbols ) ]\n",
      "pred: symbols\n",
      "tgt: <unk>\n",
      "idx: 16\n",
      "-----\n",
      "src: self return self . width + self . padding left + self . padding right\n",
      "pred: padding width\n",
      "tgt: padding width\n",
      "idx: 17\n",
      "-----\n",
      "src: self return self . padding width ( ) + self . border left width + self . border right width\n",
      "pred: border width\n",
      "tgt: border width\n",
      "idx: 18\n",
      "-----\n",
      "src: self return ( self . border box x ( ) , self . border box y ( ) , self . border width ( ) , self . border height ( ) )\n",
      "pred: border box\n",
      "tgt: hit area\n",
      "idx: 19\n",
      "-----\n",
      "src: self , ratio return self . rounded box ( self . border top width * ratio , self . border right width * ratio , self . border bottom width * ratio , self . border left width * ratio , ratio return self . rounded box ( self . border top width * ratio , self . border right width * ratio , self . border bottom width * ratio , self . border left width * ratio )\n",
      "pred: rounded box ratio\n",
      "tgt: <unk> box ratio\n",
      "idx: 20\n",
      "-----\n",
      "src: self return ( self . style [ ' page ' ] , self . style [ ' page ' ] )\n",
      "pred: page\n",
      "tgt: page values\n",
      "idx: 21\n",
      "-----\n",
      "src: context , box , outer children widths = [ min content width ( context , child , outer = true ) for child in box . children if not child . is absolutely positioned ( ) ] children min width = margin width ( box , max ( children widths ) if children widths else 0 ) width = box . style [ ' width ' ] if width != ' auto ' and width . unit == ' px ' : cell min width = adjust ( box , outer , width . value ) else : cell min width = 0 return max ( children min width , cell min width )\n",
      "pred: cell min content width\n",
      "tgt: table cell min content width\n",
      "idx: 22\n",
      "-----\n",
      "src: context , box , containing block if context . excluded shapes : highest y = context . excluded shapes [ 1 ] . position y if box . position y < highest y : box . translate ( 0 , highest y box . position y ) position x , position y , available width = avoid collisions ( context , box , containing block ) if box . style [ ' float ' ] == ' right ' : position x += available width box . margin width ( ) box . translate ( position x box . position x , position y box . position y ) return box\n",
      "pred: handle\n",
      "tgt: find float position\n",
      "idx: 23\n",
      "-----\n",
      "src: self self . excluded shapes = [ ] self . excluded shapes lists . append ( self . excluded shapes self . excluded shapes = [ ] self . excluded shapes lists . append ( self . excluded shapes )\n",
      "pred: create\n",
      "tgt: create block formatting context\n",
      "idx: 24\n",
      "-----\n",
      "src: box , property name , refer to , main flex direction = none value = box . style [ property name ] percent = percentage ( value , refer to ) setattr ( box , property name , percent ) if property name in ( ' min width ' , ' min height ' ) and percent == ' auto ' : if ( main flex direction is none or property name != ( ' min %s ' % main flex direction ) ) : setattr ( box , property name , 0 )\n",
      "pred: add percentage\n",
      "tgt: resolve one percentage\n",
      "idx: 25\n",
      "-----\n",
      "src: def first = [ ' font stretch ' , ' font weight ' , ' font family ' , ' font variant ' , ' font style ' , ' font size ' , ' line height ' , ' marks ' ] order = sorted ( initial values ) for name in first : order . remove ( name ) return tuple ( first + order )\n",
      "pred: order order\n",
      "tgt: <unk> order\n",
      "idx: 26\n",
      "-----\n",
      "src: computer , name , values return tuple ( length ( computer , name , value , pixels only = true ) for value in values )\n",
      "pred: length tuple\n",
      "tgt: length tuple\n",
      "idx: 27\n",
      "-----\n",
      "src: computer , name , value if value == ' normal ' : return 400 elif value == ' bold ' : return 700 elif value in ( ' bolder ' , ' lighter ' ) : parent value = computer [ ' parent style ' ] [ ' font weight ' ] return font weight relative [ value ] [ parent value ] else : return value\n",
      "pred: font weight\n",
      "tgt: font weight\n",
      "idx: 28\n",
      "-----\n",
      "src: computer , name , values if values != ' none ' : , key = values anchor name = computer [ ' element ' ] . get ( key ) or none computer [ ' target collector ' ] . collect anchor ( anchor name ) return anchor name\n",
      "pred: anchor\n",
      "tgt: anchor\n",
      "idx: 29\n",
      "-----\n"
     ]
    },
    {
     "name": "stdout",
     "output_type": "stream",
     "text": [
      "src: computer , name , values if values == ' none ' : return none else : type , key = values if type == ' attr() ' : return computer [ ' element ' ] . get ( key ) or none elif type == ' string ' : return key\n",
      "pred: color\n",
      "tgt: lang\n",
      "idx: 30\n",
      "-----\n",
      "src: computer , name , value result = [ ] for function , args in value : if function == ' translate ' : args = length or percentage tuple ( computer , name , args ) result . append ( ( function , args ) ) return tuple ( result )\n",
      "pred: background\n",
      "tgt: transform\n",
      "idx: 31\n",
      "-----\n",
      "src: tokens parts = [ ] for split part in split on comma ( tokens ) : if not split part : # happens when there ' s a comma at the beginning , at the end , or # when two commas are next to each other . return for part in split part : parts . append ( part ) return parts\n",
      "pred: split parts\n",
      "tgt: split on optional comma\n",
      "idx: 32\n",
      "-----\n",
      "src: token if token . type == ' dimension ' : factor = angle to radians . get ( token . unit ) if factor is not none : return token . value * factor\n",
      "pred: get angle\n",
      "tgt: get angle\n",
      "idx: 33\n",
      "-----\n",
      "src: self return self . computed style return self . computed styles\n",
      "pred: get computed styles\n",
      "tgt: get computed styles\n",
      "idx: 34\n",
      "-----\n",
      "src: origin , importance if origin == ' user agent ' : return 1 elif origin == ' user ' and not importance : return 2 elif origin == ' author ' and not importance : return 3 elif origin == ' author ' : # and importance return 4 else : assert origin == ' user ' # and importance return 5\n",
      "pred: declaration\n",
      "tgt: declaration precedence\n",
      "idx: 35\n",
      "-----\n",
      "src: self , anchor name , target counter values , target box item = self . target lookup items . get ( anchor name ) if item and item . state == ' pending ' : item . state = ' up to date ' item . target box = target box # store the counter values in the target box like # compute content list does . # todo: remove attribute or set a default value in box class if not hasattr ( target box , ' cached counter values ' ) : target box . cached counter values = copy . deepcopy ( target counter values )\n",
      "pred: set cache\n",
      "tgt: store target\n",
      "idx: 36\n",
      "-----\n",
      "src: token result = parse color ( token ) if result == ' current color ' : return ' inherit ' else : return result\n",
      "pred: color\n",
      "tgt: color\n",
      "idx: 37\n",
      "-----\n",
      "src: token , base url if token . type != ' function ' : if get keyword ( token ) == ' none ' : return ' none ' , none return get image ( token , base url n , base url if token . type != ' function ' : if get keyword ( token ) == ' none ' : return ' none ' , none return get image ( token , base url )\n",
      "pred: image\n",
      "tgt: background image\n",
      "idx: 38\n",
      "-----\n",
      "src: token , base url if token . type != ' function ' : if get keyword ( token ) == ' none ' : return ' none ' , none parsed url = get url ( token , base url ) if parsed url : if parsed url [ 0 ] == ' url ' and parsed url [ 1 ] [ 0 ] == ' external ' : return ' url ' , parsed url [ 1 ] [ 1 ]\n",
      "pred: spec\n",
      "tgt: list style image\n",
      "idx: 39\n",
      "-----\n",
      "src: keyword return keyword in ( ' border box ' , ' padding box ' , ' content box ' )\n",
      "pred: box box\n",
      "tgt: box\n",
      "idx: 40\n",
      "-----\n",
      "src: keyword return keyword in ( ' auto ' , ' keep ' , ' discard ' )\n",
      "pred: font break\n",
      "tgt: margin break\n",
      "idx: 41\n",
      "-----\n",
      "src: token keyword = get keyword ( token ) if keyword == ' auto ' : return ' auto ' else : return get length ( token )\n",
      "pred: width\n",
      "tgt: <unk>\n",
      "idx: 42\n",
      "-----\n",
      "src: keyword return keyword in ( ' normal ' , ' historical forms ' ord return keyword in ( ' normal ' , ' historical forms ' )\n",
      "pred: font historical\n",
      "tgt: font variant <unk>\n",
      "idx: 43\n",
      "-----\n",
      "src: token keyword = get keyword ( token ) if keyword in ( ' normal ' , ' bold ' , ' bolder ' , ' lighter ' ) : return keyword if token . type == ' number ' and token . int value is not none : if token . int value in ( 100 , 200 , 300 , 400 , 500 , 600 , 700 , 800 , 900 ) : return token . int value\n",
      "pred: normal\n",
      "tgt: font weight\n",
      "idx: 44\n",
      "-----\n",
      "src: token length = get length ( token , negative = false , percentage = true ) if length : return length if get keyword ( token ) == ' none ' : return dimension ( float ( ' inf ' ) , ' px ' )\n",
      "pred: length\n",
      "tgt: max width height\n",
      "idx: 45\n",
      "-----\n",
      "src: token if get keyword ( token ) == ' auto ' : return ' auto ' if token . type == ' number ' and token . int value is not none : return token . int value\n",
      "pred: get int value\n",
      "tgt: z index\n",
      "idx: 46\n",
      "-----\n",
      "src: keyword if keyword in ( ' solid ' , ' double ' , ' dotted ' , ' dashed ' , ' wavy ' ) : return keyword\n",
      "pred: dotted keyword\n",
      "tgt: text <unk> style\n",
      "idx: 47\n",
      "-----\n",
      "src: keyword return keyword in ( ' flex start ' , ' flex end ' , ' center ' , ' baseline ' , ' stretch ' )\n",
      "pred: align content\n",
      "tgt: align items\n",
      "idx: 48\n",
      "-----\n",
      "src: args , stdin = b ' ' stdin = io . bytes io ( stdin ) stdout = io . bytes io ( ) try : main . html = fake html main . main ( args . split ( ) , stdin = stdin , stdout = stdout ) finally : main . html = html return stdout . getvalue ( , stdin = b ' ' stdin = io . bytes io ( stdin ) stdout = io . bytes io ( ) try : main . html = fake html main . main ( args . split ( ) , stdin = stdin , stdout = stdout ) finally : main . html = html return stdout . getvalue ( )\n",
      "pred: run\n",
      "tgt: run\n",
      "idx: 49\n",
      "-----\n"
     ]
    }
   ],
   "source": [
    "all_attns = []\n",
    "\n",
    "for j, batch in enumerate(data_iter):\n",
    "    batch_data = translator.translate_batch(batch, data, attn_debug=True)\n",
    "    translations = builder.from_batch(batch_data)\n",
    "    print(\"src:\", \" \".join(translations[0].src_raw))\n",
    "    print(\"pred:\", \" \".join(translations[0].pred_sents[0]))\n",
    "    print('tgt:',' '.join(translations[0].gold_sent))\n",
    "    print(\"idx:\",str(j))\n",
    "    print(\"-----\")\n",
    "    \n",
    "    attns = [t.numpy() for t in translations[0].attns]\n",
    "    all_attns.append((translations[0].src_raw, translations[0].pred_sents[0], ' '.join(translations[0].gold_sent), attns[0][:-1]))\n",
    "    \n",
    "    if j==49:\n",
    "        break"
   ]
  },
  {
   "cell_type": "code",
   "execution_count": 275,
   "metadata": {},
   "outputs": [],
   "source": [
    "import numpy as np\n",
    "import matplotlib.pyplot as plt\n",
    "import matplotlib.colors as mplc\n",
    "import matplotlib\n",
    "%matplotlib inline\n",
    "from matplotlib.backends.backend_pdf import PdfPages"
   ]
  },
  {
   "cell_type": "code",
   "execution_count": 276,
   "metadata": {},
   "outputs": [],
   "source": [
    "def visualize_attn(src, pred, tgt, attn):\n",
    "    '''\n",
    "    src and target are lists of strings\n",
    "    attn is a numpy matrix of shape (len(tgt), len(src))\n",
    "    '''\n",
    "    if len(pred)==0:\n",
    "        return\n",
    "    \n",
    "    plt.figure()\n",
    "\n",
    "    plt.matshow(attn.transpose(), cmap='gray', origin='upper', aspect=0.5/len(pred), norm=mplc.LogNorm(vmin=attn.min(), vmax=attn.max()))\n",
    "\n",
    "    plt.tick_params(axis='both', which='major', labelsize=8)\n",
    "    plt.tick_params(axis='both', which='minor', labelsize=8)\n",
    "    \n",
    "    plt.title('Ground truth:'+tgt)\n",
    "    plt.xticks(np.arange(0, len(pred), 1), pred)\n",
    "    plt.yticks(np.arange(0, len(src), 1), src)\n",
    "    \n",
    "    pp.savefig()\n",
    "    plt.close();\n",
    "    "
   ]
  },
  {
   "cell_type": "code",
   "execution_count": 277,
   "metadata": {},
   "outputs": [],
   "source": [
    "from tqdm import tqdm_notebook as tqdm"
   ]
  },
  {
   "cell_type": "code",
   "execution_count": 278,
   "metadata": {
    "scrolled": true
   },
   "outputs": [
    {
     "data": {
      "application/vnd.jupyter.widget-view+json": {
       "model_id": "90b571d2962f48198a5f89cf111e8f00",
       "version_major": 2,
       "version_minor": 0
      },
      "text/plain": [
       "HBox(children=(IntProgress(value=0, max=50), HTML(value='')))"
      ]
     },
     "metadata": {},
     "output_type": "display_data"
    },
    {
     "name": "stderr",
     "output_type": "stream",
     "text": [
      "/home/ubuntu/anaconda3/envs/pytorch_p36/lib/python3.6/site-packages/matplotlib/pyplot.py:514: RuntimeWarning: More than 20 figures have been opened. Figures created through the pyplot interface (`matplotlib.pyplot.figure`) are retained until explicitly closed and may consume too much memory. (To control this warning, see the rcParam `figure.max_open_warning`).\n",
      "  max_open_warning, RuntimeWarning)\n"
     ]
    },
    {
     "name": "stdout",
     "output_type": "stream",
     "text": [
      "\n"
     ]
    },
    {
     "data": {
      "text/plain": [
       "<Figure size 432x288 with 0 Axes>"
      ]
     },
     "metadata": {},
     "output_type": "display_data"
    },
    {
     "data": {
      "text/plain": [
       "<Figure size 432x288 with 0 Axes>"
      ]
     },
     "metadata": {},
     "output_type": "display_data"
    },
    {
     "data": {
      "text/plain": [
       "<Figure size 432x288 with 0 Axes>"
      ]
     },
     "metadata": {},
     "output_type": "display_data"
    },
    {
     "data": {
      "text/plain": [
       "<Figure size 432x288 with 0 Axes>"
      ]
     },
     "metadata": {},
     "output_type": "display_data"
    },
    {
     "data": {
      "text/plain": [
       "<Figure size 432x288 with 0 Axes>"
      ]
     },
     "metadata": {},
     "output_type": "display_data"
    },
    {
     "data": {
      "text/plain": [
       "<Figure size 432x288 with 0 Axes>"
      ]
     },
     "metadata": {},
     "output_type": "display_data"
    },
    {
     "data": {
      "text/plain": [
       "<Figure size 432x288 with 0 Axes>"
      ]
     },
     "metadata": {},
     "output_type": "display_data"
    },
    {
     "data": {
      "text/plain": [
       "<Figure size 432x288 with 0 Axes>"
      ]
     },
     "metadata": {},
     "output_type": "display_data"
    },
    {
     "data": {
      "text/plain": [
       "<Figure size 432x288 with 0 Axes>"
      ]
     },
     "metadata": {},
     "output_type": "display_data"
    },
    {
     "data": {
      "text/plain": [
       "<Figure size 432x288 with 0 Axes>"
      ]
     },
     "metadata": {},
     "output_type": "display_data"
    },
    {
     "data": {
      "text/plain": [
       "<Figure size 432x288 with 0 Axes>"
      ]
     },
     "metadata": {},
     "output_type": "display_data"
    },
    {
     "data": {
      "text/plain": [
       "<Figure size 432x288 with 0 Axes>"
      ]
     },
     "metadata": {},
     "output_type": "display_data"
    },
    {
     "data": {
      "text/plain": [
       "<Figure size 432x288 with 0 Axes>"
      ]
     },
     "metadata": {},
     "output_type": "display_data"
    },
    {
     "data": {
      "text/plain": [
       "<Figure size 432x288 with 0 Axes>"
      ]
     },
     "metadata": {},
     "output_type": "display_data"
    },
    {
     "data": {
      "text/plain": [
       "<Figure size 432x288 with 0 Axes>"
      ]
     },
     "metadata": {},
     "output_type": "display_data"
    },
    {
     "data": {
      "text/plain": [
       "<Figure size 432x288 with 0 Axes>"
      ]
     },
     "metadata": {},
     "output_type": "display_data"
    },
    {
     "data": {
      "text/plain": [
       "<Figure size 432x288 with 0 Axes>"
      ]
     },
     "metadata": {},
     "output_type": "display_data"
    },
    {
     "data": {
      "text/plain": [
       "<Figure size 432x288 with 0 Axes>"
      ]
     },
     "metadata": {},
     "output_type": "display_data"
    },
    {
     "data": {
      "text/plain": [
       "<Figure size 432x288 with 0 Axes>"
      ]
     },
     "metadata": {},
     "output_type": "display_data"
    },
    {
     "data": {
      "text/plain": [
       "<Figure size 432x288 with 0 Axes>"
      ]
     },
     "metadata": {},
     "output_type": "display_data"
    },
    {
     "data": {
      "text/plain": [
       "<Figure size 432x288 with 0 Axes>"
      ]
     },
     "metadata": {},
     "output_type": "display_data"
    },
    {
     "data": {
      "text/plain": [
       "<Figure size 432x288 with 0 Axes>"
      ]
     },
     "metadata": {},
     "output_type": "display_data"
    },
    {
     "data": {
      "text/plain": [
       "<Figure size 432x288 with 0 Axes>"
      ]
     },
     "metadata": {},
     "output_type": "display_data"
    },
    {
     "data": {
      "text/plain": [
       "<Figure size 432x288 with 0 Axes>"
      ]
     },
     "metadata": {},
     "output_type": "display_data"
    },
    {
     "data": {
      "text/plain": [
       "<Figure size 432x288 with 0 Axes>"
      ]
     },
     "metadata": {},
     "output_type": "display_data"
    },
    {
     "data": {
      "text/plain": [
       "<Figure size 432x288 with 0 Axes>"
      ]
     },
     "metadata": {},
     "output_type": "display_data"
    },
    {
     "data": {
      "text/plain": [
       "<Figure size 432x288 with 0 Axes>"
      ]
     },
     "metadata": {},
     "output_type": "display_data"
    },
    {
     "data": {
      "text/plain": [
       "<Figure size 432x288 with 0 Axes>"
      ]
     },
     "metadata": {},
     "output_type": "display_data"
    },
    {
     "data": {
      "text/plain": [
       "<Figure size 432x288 with 0 Axes>"
      ]
     },
     "metadata": {},
     "output_type": "display_data"
    },
    {
     "data": {
      "text/plain": [
       "<Figure size 432x288 with 0 Axes>"
      ]
     },
     "metadata": {},
     "output_type": "display_data"
    },
    {
     "data": {
      "text/plain": [
       "<Figure size 432x288 with 0 Axes>"
      ]
     },
     "metadata": {},
     "output_type": "display_data"
    },
    {
     "data": {
      "text/plain": [
       "<Figure size 432x288 with 0 Axes>"
      ]
     },
     "metadata": {},
     "output_type": "display_data"
    },
    {
     "data": {
      "text/plain": [
       "<Figure size 432x288 with 0 Axes>"
      ]
     },
     "metadata": {},
     "output_type": "display_data"
    },
    {
     "data": {
      "text/plain": [
       "<Figure size 432x288 with 0 Axes>"
      ]
     },
     "metadata": {},
     "output_type": "display_data"
    },
    {
     "data": {
      "text/plain": [
       "<Figure size 432x288 with 0 Axes>"
      ]
     },
     "metadata": {},
     "output_type": "display_data"
    },
    {
     "data": {
      "text/plain": [
       "<Figure size 432x288 with 0 Axes>"
      ]
     },
     "metadata": {},
     "output_type": "display_data"
    },
    {
     "data": {
      "text/plain": [
       "<Figure size 432x288 with 0 Axes>"
      ]
     },
     "metadata": {},
     "output_type": "display_data"
    },
    {
     "data": {
      "text/plain": [
       "<Figure size 432x288 with 0 Axes>"
      ]
     },
     "metadata": {},
     "output_type": "display_data"
    },
    {
     "data": {
      "text/plain": [
       "<Figure size 432x288 with 0 Axes>"
      ]
     },
     "metadata": {},
     "output_type": "display_data"
    },
    {
     "data": {
      "text/plain": [
       "<Figure size 432x288 with 0 Axes>"
      ]
     },
     "metadata": {},
     "output_type": "display_data"
    },
    {
     "data": {
      "text/plain": [
       "<Figure size 432x288 with 0 Axes>"
      ]
     },
     "metadata": {},
     "output_type": "display_data"
    },
    {
     "data": {
      "text/plain": [
       "<Figure size 432x288 with 0 Axes>"
      ]
     },
     "metadata": {},
     "output_type": "display_data"
    },
    {
     "data": {
      "text/plain": [
       "<Figure size 432x288 with 0 Axes>"
      ]
     },
     "metadata": {},
     "output_type": "display_data"
    },
    {
     "data": {
      "text/plain": [
       "<Figure size 432x288 with 0 Axes>"
      ]
     },
     "metadata": {},
     "output_type": "display_data"
    },
    {
     "data": {
      "text/plain": [
       "<Figure size 432x288 with 0 Axes>"
      ]
     },
     "metadata": {},
     "output_type": "display_data"
    },
    {
     "data": {
      "text/plain": [
       "<Figure size 432x288 with 0 Axes>"
      ]
     },
     "metadata": {},
     "output_type": "display_data"
    },
    {
     "data": {
      "text/plain": [
       "<Figure size 432x288 with 0 Axes>"
      ]
     },
     "metadata": {},
     "output_type": "display_data"
    },
    {
     "data": {
      "text/plain": [
       "<Figure size 432x288 with 0 Axes>"
      ]
     },
     "metadata": {},
     "output_type": "display_data"
    },
    {
     "data": {
      "text/plain": [
       "<Figure size 432x288 with 0 Axes>"
      ]
     },
     "metadata": {},
     "output_type": "display_data"
    },
    {
     "data": {
      "text/plain": [
       "<Figure size 432x288 with 0 Axes>"
      ]
     },
     "metadata": {},
     "output_type": "display_data"
    }
   ],
   "source": [
    "pp = PdfPages('attn_wts.pdf')\n",
    "plt.ioff()\n",
    "for src, pred, tgt, attn in tqdm(all_attns):\n",
    "#     print(src, pred, tgt, attn)\n",
    "    visualize_attn(src, pred, tgt, attn)\n",
    "#     break\n",
    "pp.close()"
   ]
  },
  {
   "cell_type": "code",
   "execution_count": 122,
   "metadata": {},
   "outputs": [],
   "source": []
  },
  {
   "cell_type": "code",
   "execution_count": null,
   "metadata": {},
   "outputs": [],
   "source": []
  },
  {
   "cell_type": "code",
   "execution_count": null,
   "metadata": {},
   "outputs": [],
   "source": []
  },
  {
   "cell_type": "code",
   "execution_count": null,
   "metadata": {},
   "outputs": [],
   "source": []
  },
  {
   "cell_type": "code",
   "execution_count": null,
   "metadata": {},
   "outputs": [],
   "source": []
  },
  {
   "cell_type": "code",
   "execution_count": 279,
   "metadata": {},
   "outputs": [
    {
     "data": {
      "text/plain": [
       "'/home/ubuntu/adversarial-ml-on-code-stuff/models/onmt'"
      ]
     },
     "execution_count": 279,
     "metadata": {},
     "output_type": "execute_result"
    }
   ],
   "source": [
    "pwd"
   ]
  },
  {
   "cell_type": "code",
   "execution_count": 296,
   "metadata": {},
   "outputs": [
    {
     "name": "stdout",
     "output_type": "stream",
     "text": [
      "/home/ubuntu/adversarial-ml-on-code-stuff/models/onmt\n"
     ]
    }
   ],
   "source": [
    "cd .."
   ]
  },
  {
   "cell_type": "code",
   "execution_count": 281,
   "metadata": {},
   "outputs": [],
   "source": [
    "import torch"
   ]
  },
  {
   "cell_type": "code",
   "execution_count": 299,
   "metadata": {},
   "outputs": [],
   "source": [
    "m = torch.load('bilstm_adv_0.5M_step_115000.pt', map_location='cpu')"
   ]
  },
  {
   "cell_type": "code",
   "execution_count": 300,
   "metadata": {},
   "outputs": [
    {
     "data": {
      "text/plain": [
       "21269000"
      ]
     },
     "execution_count": 300,
     "metadata": {},
     "output_type": "execute_result"
    }
   ],
   "source": [
    "sum(m['model'][p].numel() for p in m['model'])"
   ]
  },
  {
   "cell_type": "code",
   "execution_count": null,
   "metadata": {},
   "outputs": [],
   "source": []
  }
 ],
 "metadata": {
  "kernelspec": {
   "display_name": "Environment (conda_pytorch_p36)",
   "language": "python",
   "name": "conda_pytorch_p36"
  },
  "language_info": {
   "codemirror_mode": {
    "name": "ipython",
    "version": 3
   },
   "file_extension": ".py",
   "mimetype": "text/x-python",
   "name": "python",
   "nbconvert_exporter": "python",
   "pygments_lexer": "ipython3",
   "version": "3.6.5"
  }
 },
 "nbformat": 4,
 "nbformat_minor": 2
}
